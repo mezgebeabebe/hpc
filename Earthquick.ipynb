{
  "nbformat": 4,
  "nbformat_minor": 0,
  "metadata": {
    "colab": {
      "provenance": [],
      "authorship_tag": "ABX9TyMWk3vCjuqJLJyyM8xQkryh"
    },
    "kernelspec": {
      "name": "python3",
      "display_name": "Python 3"
    },
    "language_info": {
      "name": "python"
    }
  },
  "cells": [
    {
      "cell_type": "code",
      "execution_count": 2,
      "metadata": {
        "colab": {
          "base_uri": "https://localhost:8080/",
          "height": 708
        },
        "id": "HJ_VsCyxwEAv",
        "outputId": "087a3721-1008-4272-af7d-26c7b1d38797"
      },
      "outputs": [
        {
          "output_type": "display_data",
          "data": {
            "text/plain": [
              "<IPython.core.display.HTML object>"
            ],
            "text/html": [
              "\n",
              "<!DOCTYPE html>\n",
              "<html>\n",
              "<head>\n",
              "    <title>Ethiopia Earthquake Events Dashboard</title>\n",
              "</head>\n",
              "<body>\n",
              "    <h1 style=\"text-align: center; color: #2c3e50;\">Ethiopia Earthquake Events Dashboard</h1>\n",
              "    <p style=\"text-align: center; font-size: 18px;\">\n",
              "        This dashboard is to show the earthquake events in Ethiopia.\n",
              "    </p>\n",
              "    <iframe \n",
              "        src=\"https://app.powerbi.com/view?r=eyJrIjoiYjJkMThmNDYtMjUxYS00MWU5LWI0ZjMtMDMyZDY2MWI1MDQ1IiwidCI6IjE1ODgyNjJkLTIzZmItNDNiNC1iZDZlLWJjZTQ5YzhlNjE4NiIsImMiOjh9\" \n",
              "        width=\"100%\" \n",
              "        height=\"600\" \n",
              "        frameborder=\"0\" \n",
              "        allowfullscreen=\"true\">\n",
              "    </iframe>\n",
              "</body>\n",
              "</html>\n"
            ]
          },
          "metadata": {}
        }
      ],
      "source": [
        "from IPython.core.display import display, HTML\n",
        "\n",
        "# Text content\n",
        "html_content = \"\"\"\n",
        "<!DOCTYPE html>\n",
        "<html>\n",
        "<head>\n",
        "    <title>Ethiopia Earthquake Events Dashboard</title>\n",
        "</head>\n",
        "<body>\n",
        "    <h1 style=\"text-align: center; color: #2c3e50;\">Ethiopia Earthquake Events Dashboard</h1>\n",
        "    <p style=\"text-align: center; font-size: 18px;\">\n",
        "        This dashboard is to show the earthquake events in Ethiopia.\n",
        "    </p>\n",
        "    <iframe\n",
        "        src=\"https://app.powerbi.com/view?r=eyJrIjoiYjJkMThmNDYtMjUxYS00MWU5LWI0ZjMtMDMyZDY2MWI1MDQ1IiwidCI6IjE1ODgyNjJkLTIzZmItNDNiNC1iZDZlLWJjZTQ5YzhlNjE4NiIsImMiOjh9\"\n",
        "        width=\"100%\"\n",
        "        height=\"600\"\n",
        "        frameborder=\"0\"\n",
        "        allowfullscreen=\"true\">\n",
        "    </iframe>\n",
        "</body>\n",
        "</html>\n",
        "\"\"\"\n",
        "\n",
        "# Render HTML in Colab\n",
        "display(HTML(html_content))\n"
      ]
    }
  ]
}